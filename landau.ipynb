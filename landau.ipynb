{
 "cells": [
  {
   "cell_type": "code",
   "execution_count": 23,
   "metadata": {},
   "outputs": [
    {
     "data": {
      "image/png": "[encoded data removed]",
      "text/plain": [
       "<matplotlib.figure.Figure at 0x110dea908>"
      ]
     },
     "metadata": {},
     "output_type": "display_data"
    },
    {
     "name": "stdout",
     "output_type": "stream",
     "text": [
      "\n",
      " 2.107680082321167\n"
     ]
    }
   ],
   "source": [
    "import numpy as np\n",
    "import matplotlib.pyplot as plt\n",
    "from mpl_toolkits.axes_grid1 import make_axes_locatable\n",
    "from matplotlib import animation\n",
    "import time as tm\n",
    "\n",
    "start = tm.time()\n",
    "\n",
    "n = 10   ## grid size n*n\n",
    "\n",
    "a = -1; b = 0; c = -1;  ##parámetros\n",
    "D = 1; \n",
    "\n",
    "t = 0.0            ## inicializar tiempo \n",
    "total_time = 30    ## tiempo total de la simulación\n",
    "dt = 0.2           ## time-step\n",
    "\n",
    "minim = -1   ## para normalitzar los colores del plot en [-1,1]\n",
    "maxim = 1\n",
    "\n",
    "def nnmean(X):                         ## operador que calcula el valor medio de los 4 vecinos\n",
    "    return (1/4)*(np.roll(X,+1,axis=0)  ## del array X[i,j], es decir, (1/4)*( X[i,j+1] + X[i+1,j] +X[i-1,j] + X[i,j-1] )\n",
    "            +np.roll(X,-1,axis=0)       ## con condiciones de contorno periódicas (la función np.roll())\n",
    "            +np.roll(X,+1,axis=1)\n",
    "            +np.roll(X,-1,axis=1))\n",
    "\n",
    "#ims=[]    ### para hacer el video\n",
    "\n",
    "fig = plt.figure()\n",
    "\n",
    "cm = 'Greys'                                ## estilo del plot\n",
    "ax = fig.add_subplot(111, aspect='equal')\n",
    "ax.set_xticks([]) \n",
    "ax.set_yticks([]) \n",
    "sm = plt.cm.ScalarMappable(cmap=cm)\n",
    "sm.set_array([])\n",
    "sm.set_clim(vmin=minim, vmax=maxim)\n",
    "cbar = plt.colorbar(sm)\n",
    "\n",
    "u = np.random.random((n,n))       #inicializamos el array con valores aleatorios\n",
    "\n",
    "## alternativamente, podríamos inicializar con todo zeros\n",
    "\n",
    "#u = np.zeros((n,n))\n",
    "\n",
    "## o todo unos o -unos\n",
    "\n",
    "#u = np.ones((n,n))\n",
    "#u = -np.ones((n,n))\n",
    "\n",
    "## bucle en el que calculamos la dinámica de cada celda\n",
    "\n",
    "while t < total_time:\n",
    "    t += dt\n",
    "    u = u + dt*(a*u + b*u**2  + c*u**3 + D*(u - nnmean(u)))  ## equacion que iteramos\n",
    "    im = plt.imshow(u, vmin=minim, vmax=maxim, cmap=cm, interpolation = 'none')   ## plot\n",
    "    \n",
    "    #ims.append([im])\n",
    "    \n",
    "## todo esto es para hacer el video\n",
    "\n",
    "#writer = animation.FFMpegWriter(fps = 50, codec=\"libx264\", bitrate=-1, extra_args=['-pix_fmt', 'yuv420p'])\n",
    "#ani = animation.ArtistAnimation(fig,ims, blit = True)\n",
    "#ani.save('landau.mp4',writer = writer, dpi = 200)\n",
    "\n",
    "fig.tight_layout()\n",
    "plt.savefig('landau_pattern.pdf', transparent=True)\n",
    "\n",
    "plt.show()\n",
    "\n",
    "end = tm.time()\n",
    "\n",
    "print('\\n', end - start)"
   ]
  },
  {
   "cell_type": "code",
   "execution_count": null,
   "metadata": {
    "collapsed": true
   },
   "outputs": [],
   "source": []
  }
 ],
 "metadata": {
  "anaconda-cloud": {},
  "kernelspec": {
   "display_name": "Python [default]",
   "language": "python",
   "name": "python3"
  },
  "language_info": {
   "codemirror_mode": {
    "name": "ipython",
    "version": 3
   },
   "file_extension": ".py",
   "mimetype": "text/x-python",
   "name": "python",
   "nbconvert_exporter": "python",
   "pygments_lexer": "ipython3",
   "version": "3.5.2"
  }
 },
 "nbformat": 4,
 "nbformat_minor": 1
}
